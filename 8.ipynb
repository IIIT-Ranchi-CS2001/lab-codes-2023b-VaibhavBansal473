{
 "cells": [
  {
   "cell_type": "markdown",
   "metadata": {},
   "source": [
    "# Q1"
   ]
  },
  {
   "cell_type": "code",
   "execution_count": 4,
   "metadata": {},
   "outputs": [
    {
     "name": "stdout",
     "output_type": "stream",
     "text": [
      "Number of males: 12\n",
      "Number of females: 9\n",
      "Number of kids: 24\n"
     ]
    }
   ],
   "source": [
    "import numpy as np\n",
    "A = np.array([\n",
    "    [44, 38, 21],\n",
    "    [32, 28, 15],\n",
    "    [24, 20, 10]\n",
    "])\n",
    "B = np.array([1412, 1024, 728])\n",
    "# AX=B\n",
    "solution = np.linalg.solve(A, B)\n",
    "num_males, num_females, num_kids = solution\n",
    "print(f\"Number of males: {int(num_males)}\")\n",
    "print(f\"Number of females: {int(num_females)}\")\n",
    "print(f\"Number of kids: {int(num_kids)}\")"
   ]
  },
  {
   "cell_type": "markdown",
   "metadata": {},
   "source": [
    "# Q2"
   ]
  },
  {
   "cell_type": "code",
   "execution_count": null,
   "metadata": {},
   "outputs": [
    {
     "name": "stdout",
     "output_type": "stream",
     "text": [
      "Divisible by 5 in arr3d1: []\n",
      "Divisible by 4 in arr3d2: [64]\n",
      "Largest possible square matrix:\n",
      "[[22]]\n"
     ]
    }
   ],
   "source": [
    "import numpy as np\n",
    "x1, y1, z1 = map(int, input(\"Enter x1, y1, z1 separated by commas: \").split(','))\n",
    "x2, y2, z2 = map(int, input(\"Enter x2, y2, z2 separated by commas: \").split(','))\n",
    "arr3d1 = np.random.randint(1, 101, size=(x1, y1, z1))\n",
    "arr3d2 = np.random.randint(1, 101, size=(x2, y2, z2))\n",
    "\n",
    "divBy51=arr3d1[arr3d1%5==0]\n",
    "divBy42=arr3d2[arr3d2%4==0]\n",
    "print(f\"Divisible by 5 in arr3d1: {divBy51}\")\n",
    "print(f\"Divisible by 4 in arr3d2: {divBy42}\")\n",
    "\n",
    "combined_1d = np.concatenate((arr3d1.flatten(), arr3d2.flatten()))\n",
    "side_length = int(np.floor(np.sqrt(combined_1d.size)))\n",
    "largest_square_matrix = combined_1d[:side_length**2].reshape(side_length, side_length)\n",
    "print(f\"Largest possible square matrix:\\n{largest_square_matrix}\")\n"
   ]
  },
  {
   "cell_type": "markdown",
   "metadata": {},
   "source": [
    "# Q3"
   ]
  },
  {
   "cell_type": "code",
   "execution_count": 29,
   "metadata": {},
   "outputs": [
    {
     "name": "stdout",
     "output_type": "stream",
     "text": [
      "[[1. 0. 0. 0. 0.]\n",
      " [0. 2. 0. 0. 0.]\n",
      " [0. 0. 3. 0. 0.]\n",
      " [0. 0. 0. 4. 0.]\n",
      " [0. 0. 0. 0. 5.]]\n"
     ]
    }
   ],
   "source": [
    "import numpy as np\n",
    "def Create_Array(*args):\n",
    "    res=np.zeros((len(args),len(args)))\n",
    "    for i,elm in enumerate(args):\n",
    "        res[i,i]=elm\n",
    "    return res\n",
    "\n",
    "\n",
    "new_arr=Create_Array(1,2,3,4,5)\n",
    "print(new_arr)\n",
    "    "
   ]
  }
 ],
 "metadata": {
  "kernelspec": {
   "display_name": "Python 3",
   "language": "python",
   "name": "python3"
  },
  "language_info": {
   "codemirror_mode": {
    "name": "ipython",
    "version": 3
   },
   "file_extension": ".py",
   "mimetype": "text/x-python",
   "name": "python",
   "nbconvert_exporter": "python",
   "pygments_lexer": "ipython3",
   "version": "3.12.5"
  }
 },
 "nbformat": 4,
 "nbformat_minor": 2
}
