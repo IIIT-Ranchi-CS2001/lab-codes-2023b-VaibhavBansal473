{
 "cells": [
  {
   "cell_type": "code",
   "execution_count": 3,
   "metadata": {},
   "outputs": [
    {
     "name": "stdout",
     "output_type": "stream",
     "text": [
      "number od pallindrome words are:  2\n"
     ]
    }
   ],
   "source": [
    "s=input(\"Enter sentence: \")\n",
    "def ispallindrome(s):\n",
    "    p=s[::-1]\n",
    "    if(s==p):\n",
    "        return True\n",
    "    else:\n",
    "        return False\n",
    "cnt=0\n",
    "word = s.split()\n",
    "for i in word:\n",
    "    if(ispallindrome(i)):\n",
    "        cnt+=1\n",
    "print(\"number od pallindrome words are: \",cnt)"
   ]
  },
  {
   "cell_type": "code",
   "execution_count": 8,
   "metadata": {},
   "outputs": [
    {
     "name": "stdout",
     "output_type": "stream",
     "text": [
      "Mean is:  4.4\n",
      "Median is:  5\n",
      "Mode is:  5\n"
     ]
    }
   ],
   "source": [
    "import statistics\n",
    "input_data=input(\"Enter integers: \")\n",
    "lst=[int(i) for i in input_data.split()]\n",
    "print(\"Mean is: \",statistics.mean(lst))\n",
    "print(\"Median is: \",statistics.median(lst))\n",
    "print(\"Mode is: \",statistics.mode(lst))"
   ]
  },
  {
   "cell_type": "code",
   "execution_count": 13,
   "metadata": {},
   "outputs": [
    {
     "data": {
      "text/plain": [
       "['CS-1001:Python', 'CS-2001:Algo', 'CS-2007:TOC']"
      ]
     },
     "execution_count": 13,
     "metadata": {},
     "output_type": "execute_result"
    }
   ],
   "source": [
    "course_code= [\"CS-1001\", \"CS-2001\" , \"CS-2007\"]\n",
    "course_name= [\"Python\" , \"Algo\" , \"TOC\"]\n",
    "data = [f\"{code}:{name}\" for code , name in zip(course_code , course_name)]\n",
    "data\n"
   ]
  },
  {
   "cell_type": "code",
   "execution_count": null,
   "metadata": {},
   "outputs": [],
   "source": []
  }
 ],
 "metadata": {
  "kernelspec": {
   "display_name": "Python 3",
   "language": "python",
   "name": "python3"
  },
  "language_info": {
   "codemirror_mode": {
    "name": "ipython",
    "version": 3
   },
   "file_extension": ".py",
   "mimetype": "text/x-python",
   "name": "python",
   "nbconvert_exporter": "python",
   "pygments_lexer": "ipython3",
   "version": "3.12.6"
  }
 },
 "nbformat": 4,
 "nbformat_minor": 2
}
